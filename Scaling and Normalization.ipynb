{
 "cells": [
  {
   "cell_type": "code",
   "execution_count": 6,
   "id": "ab8da4bc",
   "metadata": {},
   "outputs": [
    {
     "name": "stdout",
     "output_type": "stream",
     "text": [
      "Collecting mlxtend\n",
      "  Downloading mlxtend-0.20.0-py2.py3-none-any.whl (1.3 MB)\n",
      "Requirement already satisfied: matplotlib>=3.0.0 in d:\\program files\\anaconda3\\lib\\site-packages (from mlxtend) (3.4.3)\n",
      "Requirement already satisfied: setuptools in d:\\program files\\anaconda3\\lib\\site-packages (from mlxtend) (58.0.4)\n",
      "Requirement already satisfied: pandas>=0.24.2 in d:\\program files\\anaconda3\\lib\\site-packages (from mlxtend) (1.3.4)\n",
      "Requirement already satisfied: joblib>=0.13.2 in d:\\program files\\anaconda3\\lib\\site-packages (from mlxtend) (1.1.0)\n",
      "Requirement already satisfied: scipy>=1.2.1 in d:\\program files\\anaconda3\\lib\\site-packages (from mlxtend) (1.7.1)\n",
      "Collecting scikit-learn>=1.0.2\n",
      "  Downloading scikit_learn-1.1.1-cp39-cp39-win_amd64.whl (7.4 MB)\n",
      "Requirement already satisfied: numpy>=1.16.2 in d:\\program files\\anaconda3\\lib\\site-packages (from mlxtend) (1.20.3)\n",
      "Requirement already satisfied: pillow>=6.2.0 in d:\\program files\\anaconda3\\lib\\site-packages (from matplotlib>=3.0.0->mlxtend) (8.4.0)\n",
      "Requirement already satisfied: kiwisolver>=1.0.1 in d:\\program files\\anaconda3\\lib\\site-packages (from matplotlib>=3.0.0->mlxtend) (1.3.1)\n",
      "Requirement already satisfied: cycler>=0.10 in d:\\program files\\anaconda3\\lib\\site-packages (from matplotlib>=3.0.0->mlxtend) (0.10.0)\n",
      "Requirement already satisfied: pyparsing>=2.2.1 in d:\\program files\\anaconda3\\lib\\site-packages (from matplotlib>=3.0.0->mlxtend) (3.0.4)\n",
      "Requirement already satisfied: python-dateutil>=2.7 in d:\\program files\\anaconda3\\lib\\site-packages (from matplotlib>=3.0.0->mlxtend) (2.8.2)\n",
      "Requirement already satisfied: six in d:\\program files\\anaconda3\\lib\\site-packages (from cycler>=0.10->matplotlib>=3.0.0->mlxtend) (1.16.0)\n",
      "Requirement already satisfied: pytz>=2017.3 in d:\\program files\\anaconda3\\lib\\site-packages (from pandas>=0.24.2->mlxtend) (2021.3)\n",
      "Requirement already satisfied: threadpoolctl>=2.0.0 in d:\\program files\\anaconda3\\lib\\site-packages (from scikit-learn>=1.0.2->mlxtend) (2.2.0)\n",
      "Installing collected packages: scikit-learn, mlxtend\n",
      "  Attempting uninstall: scikit-learn\n",
      "    Found existing installation: scikit-learn 0.24.2\n",
      "    Uninstalling scikit-learn-0.24.2:\n",
      "      Successfully uninstalled scikit-learn-0.24.2\n",
      "Successfully installed mlxtend-0.20.0 scikit-learn-1.1.1\n"
     ]
    }
   ],
   "source": [
    "import pandas as pd\n",
    "import numpy as np\n",
    "from scipy import stats\n",
    "!pip install mlxtend\n",
    "from mlxtend.preprocessing import minmax_scaling\n",
    "import seaborn as sns\n",
    "import matplotlib.pyplot as plt"
   ]
  },
  {
   "cell_type": "code",
   "execution_count": 7,
   "id": "89c52ce8",
   "metadata": {},
   "outputs": [
    {
     "data": {
      "text/html": [
       "<div>\n",
       "<style scoped>\n",
       "    .dataframe tbody tr th:only-of-type {\n",
       "        vertical-align: middle;\n",
       "    }\n",
       "\n",
       "    .dataframe tbody tr th {\n",
       "        vertical-align: top;\n",
       "    }\n",
       "\n",
       "    .dataframe thead th {\n",
       "        text-align: right;\n",
       "    }\n",
       "</style>\n",
       "<table border=\"1\" class=\"dataframe\">\n",
       "  <thead>\n",
       "    <tr style=\"text-align: right;\">\n",
       "      <th></th>\n",
       "      <th>ID</th>\n",
       "      <th>name</th>\n",
       "      <th>category</th>\n",
       "      <th>main_category</th>\n",
       "      <th>currency</th>\n",
       "      <th>deadline</th>\n",
       "      <th>goal</th>\n",
       "      <th>launched</th>\n",
       "      <th>pledged</th>\n",
       "      <th>state</th>\n",
       "      <th>backers</th>\n",
       "      <th>country</th>\n",
       "      <th>usd pledged</th>\n",
       "      <th>usd_pledged_real</th>\n",
       "      <th>usd_goal_real</th>\n",
       "    </tr>\n",
       "  </thead>\n",
       "  <tbody>\n",
       "    <tr>\n",
       "      <th>0</th>\n",
       "      <td>1000002330</td>\n",
       "      <td>The Songs of Adelaide &amp; Abullah</td>\n",
       "      <td>Poetry</td>\n",
       "      <td>Publishing</td>\n",
       "      <td>GBP</td>\n",
       "      <td>2015-10-09</td>\n",
       "      <td>1000.0</td>\n",
       "      <td>2015-08-11 12:12:28</td>\n",
       "      <td>0.0</td>\n",
       "      <td>failed</td>\n",
       "      <td>0</td>\n",
       "      <td>GB</td>\n",
       "      <td>0.0</td>\n",
       "      <td>0.0</td>\n",
       "      <td>1533.95</td>\n",
       "    </tr>\n",
       "    <tr>\n",
       "      <th>1</th>\n",
       "      <td>1000003930</td>\n",
       "      <td>Greeting From Earth: ZGAC Arts Capsule For ET</td>\n",
       "      <td>Narrative Film</td>\n",
       "      <td>Film &amp; Video</td>\n",
       "      <td>USD</td>\n",
       "      <td>2017-11-01</td>\n",
       "      <td>30000.0</td>\n",
       "      <td>2017-09-02 04:43:57</td>\n",
       "      <td>2421.0</td>\n",
       "      <td>failed</td>\n",
       "      <td>15</td>\n",
       "      <td>US</td>\n",
       "      <td>100.0</td>\n",
       "      <td>2421.0</td>\n",
       "      <td>30000.00</td>\n",
       "    </tr>\n",
       "    <tr>\n",
       "      <th>2</th>\n",
       "      <td>1000004038</td>\n",
       "      <td>Where is Hank?</td>\n",
       "      <td>Narrative Film</td>\n",
       "      <td>Film &amp; Video</td>\n",
       "      <td>USD</td>\n",
       "      <td>2013-02-26</td>\n",
       "      <td>45000.0</td>\n",
       "      <td>2013-01-12 00:20:50</td>\n",
       "      <td>220.0</td>\n",
       "      <td>failed</td>\n",
       "      <td>3</td>\n",
       "      <td>US</td>\n",
       "      <td>220.0</td>\n",
       "      <td>220.0</td>\n",
       "      <td>45000.00</td>\n",
       "    </tr>\n",
       "    <tr>\n",
       "      <th>3</th>\n",
       "      <td>1000007540</td>\n",
       "      <td>ToshiCapital Rekordz Needs Help to Complete Album</td>\n",
       "      <td>Music</td>\n",
       "      <td>Music</td>\n",
       "      <td>USD</td>\n",
       "      <td>2012-04-16</td>\n",
       "      <td>5000.0</td>\n",
       "      <td>2012-03-17 03:24:11</td>\n",
       "      <td>1.0</td>\n",
       "      <td>failed</td>\n",
       "      <td>1</td>\n",
       "      <td>US</td>\n",
       "      <td>1.0</td>\n",
       "      <td>1.0</td>\n",
       "      <td>5000.00</td>\n",
       "    </tr>\n",
       "    <tr>\n",
       "      <th>4</th>\n",
       "      <td>1000011046</td>\n",
       "      <td>Community Film Project: The Art of Neighborhoo...</td>\n",
       "      <td>Film &amp; Video</td>\n",
       "      <td>Film &amp; Video</td>\n",
       "      <td>USD</td>\n",
       "      <td>2015-08-29</td>\n",
       "      <td>19500.0</td>\n",
       "      <td>2015-07-04 08:35:03</td>\n",
       "      <td>1283.0</td>\n",
       "      <td>canceled</td>\n",
       "      <td>14</td>\n",
       "      <td>US</td>\n",
       "      <td>1283.0</td>\n",
       "      <td>1283.0</td>\n",
       "      <td>19500.00</td>\n",
       "    </tr>\n",
       "    <tr>\n",
       "      <th>...</th>\n",
       "      <td>...</td>\n",
       "      <td>...</td>\n",
       "      <td>...</td>\n",
       "      <td>...</td>\n",
       "      <td>...</td>\n",
       "      <td>...</td>\n",
       "      <td>...</td>\n",
       "      <td>...</td>\n",
       "      <td>...</td>\n",
       "      <td>...</td>\n",
       "      <td>...</td>\n",
       "      <td>...</td>\n",
       "      <td>...</td>\n",
       "      <td>...</td>\n",
       "      <td>...</td>\n",
       "    </tr>\n",
       "    <tr>\n",
       "      <th>378656</th>\n",
       "      <td>999976400</td>\n",
       "      <td>ChknTruk Nationwide Charity Drive 2014 (Canceled)</td>\n",
       "      <td>Documentary</td>\n",
       "      <td>Film &amp; Video</td>\n",
       "      <td>USD</td>\n",
       "      <td>2014-10-17</td>\n",
       "      <td>50000.0</td>\n",
       "      <td>2014-09-17 02:35:30</td>\n",
       "      <td>25.0</td>\n",
       "      <td>canceled</td>\n",
       "      <td>1</td>\n",
       "      <td>US</td>\n",
       "      <td>25.0</td>\n",
       "      <td>25.0</td>\n",
       "      <td>50000.00</td>\n",
       "    </tr>\n",
       "    <tr>\n",
       "      <th>378657</th>\n",
       "      <td>999977640</td>\n",
       "      <td>The Tribe</td>\n",
       "      <td>Narrative Film</td>\n",
       "      <td>Film &amp; Video</td>\n",
       "      <td>USD</td>\n",
       "      <td>2011-07-19</td>\n",
       "      <td>1500.0</td>\n",
       "      <td>2011-06-22 03:35:14</td>\n",
       "      <td>155.0</td>\n",
       "      <td>failed</td>\n",
       "      <td>5</td>\n",
       "      <td>US</td>\n",
       "      <td>155.0</td>\n",
       "      <td>155.0</td>\n",
       "      <td>1500.00</td>\n",
       "    </tr>\n",
       "    <tr>\n",
       "      <th>378658</th>\n",
       "      <td>999986353</td>\n",
       "      <td>Walls of Remedy- New lesbian Romantic Comedy f...</td>\n",
       "      <td>Narrative Film</td>\n",
       "      <td>Film &amp; Video</td>\n",
       "      <td>USD</td>\n",
       "      <td>2010-08-16</td>\n",
       "      <td>15000.0</td>\n",
       "      <td>2010-07-01 19:40:30</td>\n",
       "      <td>20.0</td>\n",
       "      <td>failed</td>\n",
       "      <td>1</td>\n",
       "      <td>US</td>\n",
       "      <td>20.0</td>\n",
       "      <td>20.0</td>\n",
       "      <td>15000.00</td>\n",
       "    </tr>\n",
       "    <tr>\n",
       "      <th>378659</th>\n",
       "      <td>999987933</td>\n",
       "      <td>BioDefense Education Kit</td>\n",
       "      <td>Technology</td>\n",
       "      <td>Technology</td>\n",
       "      <td>USD</td>\n",
       "      <td>2016-02-13</td>\n",
       "      <td>15000.0</td>\n",
       "      <td>2016-01-13 18:13:53</td>\n",
       "      <td>200.0</td>\n",
       "      <td>failed</td>\n",
       "      <td>6</td>\n",
       "      <td>US</td>\n",
       "      <td>200.0</td>\n",
       "      <td>200.0</td>\n",
       "      <td>15000.00</td>\n",
       "    </tr>\n",
       "    <tr>\n",
       "      <th>378660</th>\n",
       "      <td>999988282</td>\n",
       "      <td>Nou Renmen Ayiti!  We Love Haiti!</td>\n",
       "      <td>Performance Art</td>\n",
       "      <td>Art</td>\n",
       "      <td>USD</td>\n",
       "      <td>2011-08-16</td>\n",
       "      <td>2000.0</td>\n",
       "      <td>2011-07-19 09:07:47</td>\n",
       "      <td>524.0</td>\n",
       "      <td>failed</td>\n",
       "      <td>17</td>\n",
       "      <td>US</td>\n",
       "      <td>524.0</td>\n",
       "      <td>524.0</td>\n",
       "      <td>2000.00</td>\n",
       "    </tr>\n",
       "  </tbody>\n",
       "</table>\n",
       "<p>378661 rows × 15 columns</p>\n",
       "</div>"
      ],
      "text/plain": [
       "                ID                                               name  \\\n",
       "0       1000002330                    The Songs of Adelaide & Abullah   \n",
       "1       1000003930      Greeting From Earth: ZGAC Arts Capsule For ET   \n",
       "2       1000004038                                     Where is Hank?   \n",
       "3       1000007540  ToshiCapital Rekordz Needs Help to Complete Album   \n",
       "4       1000011046  Community Film Project: The Art of Neighborhoo...   \n",
       "...            ...                                                ...   \n",
       "378656   999976400  ChknTruk Nationwide Charity Drive 2014 (Canceled)   \n",
       "378657   999977640                                          The Tribe   \n",
       "378658   999986353  Walls of Remedy- New lesbian Romantic Comedy f...   \n",
       "378659   999987933                           BioDefense Education Kit   \n",
       "378660   999988282                  Nou Renmen Ayiti!  We Love Haiti!   \n",
       "\n",
       "               category main_category currency    deadline     goal  \\\n",
       "0                Poetry    Publishing      GBP  2015-10-09   1000.0   \n",
       "1        Narrative Film  Film & Video      USD  2017-11-01  30000.0   \n",
       "2        Narrative Film  Film & Video      USD  2013-02-26  45000.0   \n",
       "3                 Music         Music      USD  2012-04-16   5000.0   \n",
       "4          Film & Video  Film & Video      USD  2015-08-29  19500.0   \n",
       "...                 ...           ...      ...         ...      ...   \n",
       "378656      Documentary  Film & Video      USD  2014-10-17  50000.0   \n",
       "378657   Narrative Film  Film & Video      USD  2011-07-19   1500.0   \n",
       "378658   Narrative Film  Film & Video      USD  2010-08-16  15000.0   \n",
       "378659       Technology    Technology      USD  2016-02-13  15000.0   \n",
       "378660  Performance Art           Art      USD  2011-08-16   2000.0   \n",
       "\n",
       "                   launched  pledged     state  backers country  usd pledged  \\\n",
       "0       2015-08-11 12:12:28      0.0    failed        0      GB          0.0   \n",
       "1       2017-09-02 04:43:57   2421.0    failed       15      US        100.0   \n",
       "2       2013-01-12 00:20:50    220.0    failed        3      US        220.0   \n",
       "3       2012-03-17 03:24:11      1.0    failed        1      US          1.0   \n",
       "4       2015-07-04 08:35:03   1283.0  canceled       14      US       1283.0   \n",
       "...                     ...      ...       ...      ...     ...          ...   \n",
       "378656  2014-09-17 02:35:30     25.0  canceled        1      US         25.0   \n",
       "378657  2011-06-22 03:35:14    155.0    failed        5      US        155.0   \n",
       "378658  2010-07-01 19:40:30     20.0    failed        1      US         20.0   \n",
       "378659  2016-01-13 18:13:53    200.0    failed        6      US        200.0   \n",
       "378660  2011-07-19 09:07:47    524.0    failed       17      US        524.0   \n",
       "\n",
       "        usd_pledged_real  usd_goal_real  \n",
       "0                    0.0        1533.95  \n",
       "1                 2421.0       30000.00  \n",
       "2                  220.0       45000.00  \n",
       "3                    1.0        5000.00  \n",
       "4                 1283.0       19500.00  \n",
       "...                  ...            ...  \n",
       "378656              25.0       50000.00  \n",
       "378657             155.0        1500.00  \n",
       "378658              20.0       15000.00  \n",
       "378659             200.0       15000.00  \n",
       "378660             524.0        2000.00  \n",
       "\n",
       "[378661 rows x 15 columns]"
      ]
     },
     "execution_count": 7,
     "metadata": {},
     "output_type": "execute_result"
    }
   ],
   "source": [
    "kickstarters_2017=pd.read_csv(\"R:\\Technocolabs\\ks-projects-201801.csv\")\n",
    "kickstarters_2017"
   ]
  },
  {
   "cell_type": "code",
   "execution_count": 8,
   "id": "bc8ca3df",
   "metadata": {},
   "outputs": [],
   "source": [
    "original_data=pd.DataFrame(kickstarters_2017.usd_goal_real)\n",
    "scaled_data=minmax_scaling(original_data, columns=['usd_goal_real'])"
   ]
  },
  {
   "cell_type": "code",
   "execution_count": 10,
   "id": "dd818fd3",
   "metadata": {},
   "outputs": [
    {
     "name": "stdout",
     "output_type": "stream",
     "text": [
      "Original data\n",
      "Preview:\n",
      "    usd_goal_real\n",
      "0        1533.95\n",
      "1       30000.00\n",
      "2       45000.00\n",
      "3        5000.00\n",
      "4       19500.00\n",
      "Minimum value: 0.01 \n",
      "Maximum value: 166361390.71\n",
      "______________________________\n"
     ]
    }
   ],
   "source": [
    "print('Original data\\nPreview:\\n', original_data.head())\n",
    "print('Minimum value:', float(original_data.min()),\n",
    "      '\\nMaximum value:', float(original_data.max()))\n",
    "print('_'*30)"
   ]
  },
  {
   "cell_type": "code",
   "execution_count": 11,
   "id": "5aebc668",
   "metadata": {},
   "outputs": [
    {
     "name": "stdout",
     "output_type": "stream",
     "text": [
      "\n",
      "Scaled data\n",
      "Preview:\n",
      "    usd_goal_real\n",
      "0       0.000009\n",
      "1       0.000180\n",
      "2       0.000270\n",
      "3       0.000030\n",
      "4       0.000117\n",
      "Minimum value: 0.0 \n",
      "Maximum value: 1.0\n"
     ]
    }
   ],
   "source": [
    "print('\\nScaled data\\nPreview:\\n', scaled_data.head())\n",
    "print('Minimum value:', float(scaled_data.min()),\n",
    "      '\\nMaximum value:', float(scaled_data.max()))"
   ]
  },
  {
   "cell_type": "code",
   "execution_count": 14,
   "id": "5b34e403",
   "metadata": {},
   "outputs": [],
   "source": [
    "# Scaling the goal column\n",
    "original_goal_data=pd.DataFrame(kickstarters_2017.goal)\n",
    "scaled_goal_data=minmax_scaling(original_goal_data,columns=['goal'])"
   ]
  },
  {
   "cell_type": "code",
   "execution_count": 22,
   "id": "485661f8",
   "metadata": {},
   "outputs": [
    {
     "name": "stdout",
     "output_type": "stream",
     "text": [
      "original data \n",
      "Preview :       goal\n",
      "0   1000.0\n",
      "1  30000.0\n",
      "2  45000.0\n",
      "3   5000.0\n",
      "4  19500.0\n",
      "Minimum Value:  0.01 \n",
      "Maximum Value :  100000000.0\n"
     ]
    }
   ],
   "source": [
    "print('original data \\nPreview :',original_goal_data.head())\n",
    "print('Minimum Value: ',float(original_goal_data.min()),'\\nMaximum Value : ',float(original_goal_data.max()))"
   ]
  },
  {
   "cell_type": "code",
   "execution_count": 23,
   "id": "1a1c493f",
   "metadata": {},
   "outputs": [
    {
     "name": "stdout",
     "output_type": "stream",
     "text": [
      "Scaled Data \n",
      "Preview :         goal\n",
      "0  0.000010\n",
      "1  0.000300\n",
      "2  0.000450\n",
      "3  0.000050\n",
      "4  0.000195\n",
      "Maximum Value :  1.0 \n",
      "Minimum Value :  1.0\n"
     ]
    }
   ],
   "source": [
    "print('Scaled Data \\nPreview : ',scaled_goal_data.head())\n",
    "print('Maximum Value : ',float(scaled_goal_data.max()),'\\nMinimum Value : ',float(scaled_goal_data.max()))"
   ]
  },
  {
   "cell_type": "code",
   "execution_count": 24,
   "id": "c267088f",
   "metadata": {},
   "outputs": [],
   "source": [
    "# Normalization\n",
    "index_of_positive_pledges=kickstarters_2017.usd_pledged_real > 0"
   ]
  },
  {
   "cell_type": "code",
   "execution_count": 25,
   "id": "3418b7c4",
   "metadata": {},
   "outputs": [],
   "source": [
    "positive_pledges = kickstarters_2017.usd_pledged_real.loc[index_of_positive_pledges]"
   ]
  },
  {
   "cell_type": "code",
   "execution_count": 26,
   "id": "ff2b89f8",
   "metadata": {},
   "outputs": [],
   "source": [
    "normalized_pledges = pd.Series(stats.boxcox(positive_pledges)[0], \n",
    "                               name='usd_pledged_real', index=positive_pledges.index)"
   ]
  },
  {
   "cell_type": "code",
   "execution_count": 28,
   "id": "f888bddf",
   "metadata": {
    "scrolled": true
   },
   "outputs": [
    {
     "name": "stdout",
     "output_type": "stream",
     "text": [
      "Original data\n",
      "Preview:\n",
      " 1     2421.0\n",
      "2      220.0\n",
      "3        1.0\n",
      "4     1283.0\n",
      "5    52375.0\n",
      "Name: usd_pledged_real, dtype: float64\n",
      "Minimum value: 0.45 \n",
      "Maximum value: 20338986.27\n"
     ]
    }
   ],
   "source": [
    "print('Original data\\nPreview:\\n', positive_pledges.head())\n",
    "print('Minimum value:', float(positive_pledges.min()),\n",
    "      '\\nMaximum value:', float(positive_pledges.max()))"
   ]
  },
  {
   "cell_type": "code",
   "execution_count": 29,
   "id": "5a597a2b",
   "metadata": {},
   "outputs": [
    {
     "name": "stdout",
     "output_type": "stream",
     "text": [
      "\n",
      "Normalized data\n",
      "Preview:\n",
      " 1    10.165142\n",
      "2     6.468598\n",
      "3     0.000000\n",
      "4     9.129277\n",
      "5    15.836853\n",
      "Name: usd_pledged_real, dtype: float64\n",
      "Minimum value: -0.7779954122762203 \n",
      "Maximum value: 30.69054020451361\n"
     ]
    }
   ],
   "source": [
    "print('\\nNormalized data\\nPreview:\\n', normalized_pledges.head())\n",
    "print('Minimum value:', float(normalized_pledges.min()),\n",
    "      '\\nMaximum value:', float(normalized_pledges.max()))"
   ]
  },
  {
   "cell_type": "code",
   "execution_count": 30,
   "id": "7bbfe345",
   "metadata": {},
   "outputs": [
    {
     "data": {
      "image/png": "[encoded data removed]",
      "text/plain": [
       "<Figure size 432x288 with 1 Axes>"
      ]
     },
     "metadata": {
      "needs_background": "light"
     },
     "output_type": "display_data"
    }
   ],
   "source": [
    "#plotting\n",
    "ax = sns.histplot(normalized_pledges, kde=True)\n",
    "ax.set_title(\"Normalized data\")\n",
    "plt.show()"
   ]
  },
  {
   "cell_type": "code",
   "execution_count": 31,
   "id": "fe66353a",
   "metadata": {},
   "outputs": [],
   "source": [
    "index_pledges=kickstarters_2017.pledged > 0\n",
    "positive=kickstarters_2017.pledged.loc[index_pledges]\n",
    "normalized=pd.Series(stats.boxcox(positive)[0],\n",
    "                    name='pledged', index=positive.index)"
   ]
  },
  {
   "cell_type": "code",
   "execution_count": 32,
   "id": "d495e2d7",
   "metadata": {
    "scrolled": true
   },
   "outputs": [
    {
     "name": "stdout",
     "output_type": "stream",
     "text": [
      "Original Data\n",
      "Preview : 1     2421.0\n",
      "2      220.0\n",
      "3        1.0\n",
      "4     1283.0\n",
      "5    52375.0\n",
      "Name: pledged, dtype: float64\n",
      "Maximum Value :  20338986.27 \n",
      "Minimum Value :  1.0\n"
     ]
    }
   ],
   "source": [
    "print('Original Data\\nPreview :',positive.head())\n",
    "print('Maximum Value : ',float(positive.max()),\n",
    "     '\\nMinimum Value : ',float(positive.min()))"
   ]
  },
  {
   "cell_type": "code",
   "execution_count": 33,
   "id": "9a249970",
   "metadata": {},
   "outputs": [
    {
     "name": "stdout",
     "output_type": "stream",
     "text": [
      "Normalized Data \n",
      "Preview : 1    10.013887\n",
      "2     6.403367\n",
      "3     0.000000\n",
      "4     9.005193\n",
      "5    15.499596\n",
      "Name: pledged, dtype: float64\n",
      "Maximum Value :  29.63030787418848 \n",
      "Minimum Value :  0.0\n"
     ]
    }
   ],
   "source": [
    "print('Normalized Data \\nPreview :',normalized.head())\n",
    "print('Maximum Value : ',float(normalized.max()),\n",
    "     '\\nMinimum Value : ',float(normalized.min()))"
   ]
  },
  {
   "cell_type": "code",
   "execution_count": 35,
   "id": "6b61355d",
   "metadata": {},
   "outputs": [
    {
     "data": {
      "image/png": "[encoded data removed]",
      "text/plain": [
       "<Figure size 432x288 with 1 Axes>"
      ]
     },
     "metadata": {
      "needs_background": "light"
     },
     "output_type": "display_data"
    }
   ],
   "source": [
    "NO = sns.histplot(normalized, kde=True)\n",
    "NO.set_title(\"Normalized Data\")\n",
    "plt.show()"
   ]
  }
 ],
 "metadata": {
  "kernelspec": {
   "display_name": "Python 3 (ipykernel)",
   "language": "python",
   "name": "python3"
  },
  "language_info": {
   "codemirror_mode": {
    "name": "ipython",
    "version": 3
   },
   "file_extension": ".py",
   "mimetype": "text/x-python",
   "name": "python",
   "nbconvert_exporter": "python",
   "pygments_lexer": "ipython3",
   "version": "3.9.7"
  }
 },
 "nbformat": 4,
 "nbformat_minor": 5
}
